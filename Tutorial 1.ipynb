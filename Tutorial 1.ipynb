{
 "cells": [
  {
   "cell_type": "markdown",
   "id": "f5f9b398-e60e-4168-a5fb-73905906082e",
   "metadata": {
    "tags": []
   },
   "source": [
    "## Linear Algebra In Python"
   ]
  },
  {
   "cell_type": "code",
   "execution_count": 5,
   "id": "b7d44ee7-b8ca-4eaf-ab6d-eaf34e19f04c",
   "metadata": {
    "tags": []
   },
   "outputs": [
    {
     "name": "stdout",
     "output_type": "stream",
     "text": [
      "Original matrix A:\n",
      " [[1 2]\n",
      " [3 4]]\n"
     ]
    }
   ],
   "source": [
    "import numpy as np\n",
    "A = np.array([[1, 2], [3, 4]])\n",
    "A_T = A.T  # or np.transpose(A)\n",
    "\n",
    "print(\"Original matrix A:\\n\", A)\n"
   ]
  },
  {
   "cell_type": "code",
   "execution_count": 6,
   "id": "1ce0dd0e-85fb-42f2-a353-3a8c99058c23",
   "metadata": {
    "tags": []
   },
   "outputs": [
    {
     "name": "stdout",
     "output_type": "stream",
     "text": [
      "Transpose A^T:\n",
      " [[1 3]\n",
      " [2 4]]\n"
     ]
    }
   ],
   "source": [
    "A_T = A.T  # or np.transpose(A)\n",
    "print(\"Transpose A^T:\\n\", A_T)"
   ]
  },
  {
   "cell_type": "code",
   "execution_count": 2,
   "id": "cd3e00fa-a625-4611-a87e-a362790afc80",
   "metadata": {
    "tags": []
   },
   "outputs": [
    {
     "name": "stdout",
     "output_type": "stream",
     "text": [
      "Matrix product A · B:\n",
      " [[19 22]\n",
      " [43 50]]\n"
     ]
    }
   ],
   "source": [
    "A = np.array([[1, 2], [3, 4]])\n",
    "B = np.array([[5, 6], [7, 8]])\n",
    "\n",
    "dot_matrix = np.dot(A, B)   # or A @ B\n",
    "print(\"Matrix product A · B:\\n\", dot_matrix)"
   ]
  },
  {
   "cell_type": "code",
   "execution_count": 3,
   "id": "cc5b8e73-cc44-4863-80aa-15ce64af8d0f",
   "metadata": {
    "tags": []
   },
   "outputs": [
    {
     "name": "stdout",
     "output_type": "stream",
     "text": [
      "Determinant of A: -2.0000000000000004\n"
     ]
    }
   ],
   "source": [
    "A = np.array([[1, 2], [3, 4]])\n",
    "\n",
    "det = np.linalg.det(A)\n",
    "print(\"Determinant of A:\", det)"
   ]
  },
  {
   "cell_type": "code",
   "execution_count": 4,
   "id": "3a46b0cf-bde7-4e31-8e54-1c587bbe92a7",
   "metadata": {
    "tags": []
   },
   "outputs": [
    {
     "name": "stdout",
     "output_type": "stream",
     "text": [
      "Matrix A:\n",
      " [[1 2]\n",
      " [3 4]]\n",
      "Inverse of A:\n",
      " [[-2.   1. ]\n",
      " [ 1.5 -0.5]]\n"
     ]
    }
   ],
   "source": [
    "# Compute the inverse\n",
    "A_inv = np.linalg.inv(A)\n",
    "print(\"Inverse of A:\\n\", A_inv)"
   ]
  },
  {
   "cell_type": "markdown",
   "id": "76e486f6-a107-462f-b265-d9955125e9d8",
   "metadata": {},
   "source": [
    "## 2D Pose in Python"
   ]
  },
  {
   "cell_type": "code",
   "execution_count": null,
   "id": "d5b984af-62c6-41b8-ba62-360aa7d4b9eb",
   "metadata": {},
   "outputs": [],
   "source": []
  }
 ],
 "metadata": {
  "kernelspec": {
   "display_name": "Python 3 (ipykernel)",
   "language": "python",
   "name": "python3"
  },
  "language_info": {
   "codemirror_mode": {
    "name": "ipython",
    "version": 3
   },
   "file_extension": ".py",
   "mimetype": "text/x-python",
   "name": "python",
   "nbconvert_exporter": "python",
   "pygments_lexer": "ipython3",
   "version": "3.11.13"
  }
 },
 "nbformat": 4,
 "nbformat_minor": 5
}
