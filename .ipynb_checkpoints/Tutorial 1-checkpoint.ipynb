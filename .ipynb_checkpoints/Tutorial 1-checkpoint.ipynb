{
 "cells": [
  {
   "cell_type": "markdown",
   "id": "f5f9b398-e60e-4168-a5fb-73905906082e",
   "metadata": {
    "tags": []
   },
   "source": [
    "## Linear Algebra In Python"
   ]
  },
  {
   "cell_type": "code",
   "execution_count": 28,
   "id": "b7d44ee7-b8ca-4eaf-ab6d-eaf34e19f04c",
   "metadata": {
    "tags": []
   },
   "outputs": [
    {
     "name": "stdout",
     "output_type": "stream",
     "text": [
      "Original matrix A:\n",
      " [[1 2]\n",
      " [3 4]]\n"
     ]
    }
   ],
   "source": [
    "import numpy as np\n",
    "A = np.array([[1, 2], [3, 4]])\n",
    "A_T = A.T  # or np.transpose(A)\n",
    "\n",
    "print(\"Original matrix A:\\n\", A)\n"
   ]
  },
  {
   "cell_type": "code",
   "execution_count": 29,
   "id": "1ce0dd0e-85fb-42f2-a353-3a8c99058c23",
   "metadata": {
    "tags": []
   },
   "outputs": [
    {
     "name": "stdout",
     "output_type": "stream",
     "text": [
      "Transpose A^T:\n",
      " [[1 3]\n",
      " [2 4]]\n"
     ]
    }
   ],
   "source": [
    "A_T = A.T  # or np.transpose(A)\n",
    "print(\"Transpose A^T:\\n\", A_T)"
   ]
  },
  {
   "cell_type": "code",
   "execution_count": 30,
   "id": "cd3e00fa-a625-4611-a87e-a362790afc80",
   "metadata": {
    "tags": []
   },
   "outputs": [
    {
     "name": "stdout",
     "output_type": "stream",
     "text": [
      "Matrix product A · B:\n",
      " [[19 22]\n",
      " [43 50]]\n"
     ]
    }
   ],
   "source": [
    "A = np.array([[1, 2], [3, 4]])\n",
    "B = np.array([[5, 6], [7, 8]])\n",
    "\n",
    "dot_matrix = np.dot(A, B)   # or A @ B\n",
    "print(\"Matrix product A · B:\\n\", dot_matrix)"
   ]
  },
  {
   "cell_type": "code",
   "execution_count": 31,
   "id": "cc5b8e73-cc44-4863-80aa-15ce64af8d0f",
   "metadata": {
    "tags": []
   },
   "outputs": [
    {
     "name": "stdout",
     "output_type": "stream",
     "text": [
      "Determinant of A: -2.0000000000000004\n"
     ]
    }
   ],
   "source": [
    "A = np.array([[1, 2], [3, 4]])\n",
    "\n",
    "det = np.linalg.det(A)\n",
    "print(\"Determinant of A:\", det)"
   ]
  },
  {
   "cell_type": "code",
   "execution_count": 32,
   "id": "3a46b0cf-bde7-4e31-8e54-1c587bbe92a7",
   "metadata": {
    "tags": []
   },
   "outputs": [
    {
     "name": "stdout",
     "output_type": "stream",
     "text": [
      "Inverse of A:\n",
      " [[-2.   1. ]\n",
      " [ 1.5 -0.5]]\n"
     ]
    }
   ],
   "source": [
    "# Compute the inverse\n",
    "A_inv = np.linalg.inv(A)\n",
    "print(\"Inverse of A:\\n\", A_inv)"
   ]
  },
  {
   "cell_type": "markdown",
   "id": "76e486f6-a107-462f-b265-d9955125e9d8",
   "metadata": {},
   "source": [
    "## 2D Pose in Python"
   ]
  },
  {
   "cell_type": "code",
   "execution_count": 33,
   "id": "abc9593a-383f-46a7-8aa6-38bddafefec8",
   "metadata": {
    "tags": []
   },
   "outputs": [],
   "source": [
    "# -------- Helper Function: 2D Rotation Matrix --------\n",
    "def rot_mat(theta):\n",
    "    \"\"\"\n",
    "    Returns a 2x2 2D rotation matrix for a given angle theta in radians.\n",
    "    \"\"\"\n",
    "    return np.array([\n",
    "        [np.cos(theta), -np.sin(theta)],\n",
    "        [np.sin(theta),  np.cos(theta)]\n",
    "    ])\n",
    "\n",
    "# -------- Helper Function: Transform a Point Between Frames --------\n",
    "def transform_point(A_R_B, A_P):\n",
    "    \"\"\"\n",
    "    Transforms a 2D point A_P from frame A to frame B by applying\n",
    "    the inverse of rotation matrix A_R_B (i.e., rotating in the opposite direction).\n",
    "    \"\"\"\n",
    "    return np.dot(np.linalg.inv(A_R_B), A_P)\n",
    "  "
   ]
  },
  {
   "cell_type": "code",
   "execution_count": 34,
   "id": "7df48cbb-b868-4f7a-a33a-f0231381227e",
   "metadata": {
    "tags": []
   },
   "outputs": [
    {
     "name": "stdout",
     "output_type": "stream",
     "text": [
      "=== Part A ===\n",
      "Point P in frame B: [2.12132034 2.12132034]\n"
     ]
    }
   ],
   "source": [
    "# ---------- PART A ----------\n",
    "print(\"=== Part A ===\")\n",
    "# Frame B is rotated +45° (π/4 radians) relative to frame A\n",
    "theta_A_to_B = np.pi / 4\n",
    "A_R_B = rot_mat(theta_A_to_B)          # Rotation from B to A\n",
    "A_P = np.array([0, 3])                 # Point in frame A\n",
    "B_P = transform_point(A_R_B, A_P)      # Convert point to frame B\n",
    "print(\"Point P in frame B:\", B_P)"
   ]
  },
  {
   "cell_type": "code",
   "execution_count": 35,
   "id": "3b7b5f8b-18df-499c-9a86-ba45d9908947",
   "metadata": {
    "tags": []
   },
   "outputs": [
    {
     "name": "stdout",
     "output_type": "stream",
     "text": [
      "\n",
      "=== Part B ===\n",
      "Point S in frame Q: [ 3. -2.]\n"
     ]
    }
   ],
   "source": [
    "# ---------- PART B ----------\n",
    "print(\"\\n=== Part B ===\")\n",
    "# Frame Q is rotated +90° (π/2 radians) relative to frame R\n",
    "theta_R_to_Q = np.pi / 2\n",
    "R_R_Q = rot_mat(theta_R_to_Q)          # Rotation from Q to R\n",
    "R_S = np.array([2, 3])                 # Point in frame R\n",
    "Q_S = transform_point(R_R_Q, R_S)      # Convert point to frame Q\n",
    "print(\"Point S in frame Q:\", Q_S)"
   ]
  },
  {
   "cell_type": "code",
   "execution_count": 36,
   "id": "9eef4aaf-7c1f-4b54-a8c2-76440ba5a679",
   "metadata": {
    "tags": []
   },
   "outputs": [
    {
     "name": "stdout",
     "output_type": "stream",
     "text": [
      "\n",
      "=== Part C ===\n",
      "Point X in frame N: [-5. -1.]\n"
     ]
    }
   ],
   "source": [
    "# ---------- PART C ----------\n",
    "print(\"\\n=== Part C ===\")\n",
    "# Frame M is rotated +180° (π radians) relative to frame N\n",
    "theta_N_to_M = np.pi\n",
    "N_R_M = rot_mat(theta_N_to_M)          # Rotation from M to N\n",
    "M_X = np.array([5, 1])                 # Point in frame M\n",
    "N_X = transform_point(N_R_M, M_X)      # Convert point to frame N\n",
    "print(\"Point X in frame N:\", N_X)"
   ]
  },
  {
   "cell_type": "markdown",
   "id": "8bd40696-6127-405a-af21-194ff1a5a32f",
   "metadata": {},
   "source": [
    "## Pose in 2D"
   ]
  },
  {
   "cell_type": "code",
   "execution_count": null,
   "id": "0f5e5a45-1d02-416f-bf62-43d5f0678531",
   "metadata": {},
   "outputs": [],
   "source": [
    "# -------- Helper: Build SE(2) Transform Matrix --------\n",
    "def make_transform(theta, translation):\n",
    "    \"\"\"\n",
    "    Returns a 3x3 homogeneous transformation matrix (SE(2))\n",
    "    given a rotation theta (radians) and translation [x, y].\n",
    "    \"\"\"\n",
    "    cos_t, sin_t = np.cos(theta), np.sin(theta)\n",
    "    R = np.array([[cos_t, -sin_t],\n",
    "                  [sin_t,  cos_t]])\n",
    "    T = np.eye(3)\n",
    "    T[0:2, 0:2] = R\n",
    "    T[0:2, 2] = translation\n",
    "    return T\n",
    "\n",
    "# -------- Helper: Apply SE(2) Transformation --------\n",
    "def transform_point_SE2(T, point):\n",
    "    \"\"\"\n",
    "    Transforms a 2D point using a 3x3 SE(2) transform matrix.\n",
    "    \"\"\"\n",
    "    point_h = np.array([point[0], point[1], 1])  # make homogeneous\n",
    "    return np.dot(T, point_h)[0:2]  # return x, y only\n",
    "\n",
    "\n",
    "# Given: Point in frame B\n",
    "P_B = np.array([2, 3])\n",
    "\n",
    "# ---------- Problem A ----------\n",
    "print(\"=== Problem A ===\")\n",
    "# Frame B is at [1,2] in A, rotated by π/4\n",
    "T_AB = make_transform(theta=np.pi/4, translation=[1, 2])\n",
    "# Transform from B to A\n",
    "P_A_A = np.dot(T_AB, np.append(P_B, 1))[0:2]\n",
    "print(\"Point P in frame A:\", P_A_A)x\n",
    "\n",
    "# ---------- Problem B ----------\n",
    "print(\"\\n=== Problem B ===\")\n",
    "# Frame B is at [0,0] in A, rotated by π/2\n",
    "T_AB = make_transform(theta=np.pi/2, translation=[0, 0])\n",
    "P_A_B = transform_point_SE2(T_AB, P_B)\n",
    "print(\"Point P in frame A:\", P_A_B)\n",
    "\n",
    "# ---------- Problem C ----------\n",
    "print(\"\\n=== Problem C ===\")\n",
    "# Frame A is at [2,3] in B, rotated by π → want transform from B to A → invert it\n",
    "T_BA = make_transform(theta=np.pi, translation=[2, 3])\n",
    "T_AB = np.linalg.inv(T_BA)  # Invert to go from B → A\n",
    "P_A_C = transform_point_SE2(T_AB, P_B)\n",
    "print(\"Point P in frame A:\", P_A_C)\n",
    "\n",
    "# ---------- Problem D ----------\n",
    "print(\"\\n=== Problem D ===\")\n",
    "# Frame A is at [1,6] in B, rotated by π → invert it\n",
    "T_BA = make_transform(theta=np.pi, translation=[1, 6])\n",
    "T_AB = np.linalg.inv(T_BA)  # Invert to go from B → A\n",
    "P_A_D = transform_point_SE2(T_AB, P_B)\n",
    "print(\"Point P in frame A:\", P_A_D)\n"
   ]
  }
 ],
 "metadata": {
  "kernelspec": {
   "display_name": "Python 3 (ipykernel)",
   "language": "python",
   "name": "python3"
  },
  "language_info": {
   "codemirror_mode": {
    "name": "ipython",
    "version": 3
   },
   "file_extension": ".py",
   "mimetype": "text/x-python",
   "name": "python",
   "nbconvert_exporter": "python",
   "pygments_lexer": "ipython3",
   "version": "3.11.13"
  }
 },
 "nbformat": 4,
 "nbformat_minor": 5
}
